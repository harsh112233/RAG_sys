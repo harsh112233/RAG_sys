{
 "cells": [
  {
   "cell_type": "code",
   "execution_count": null,
   "metadata": {},
   "outputs": [],
   "source": [
    "## Retrieval augmented generation\n",
    "\n",
    "import os\n",
    "from dotenv import load_dotenv\n",
    "load_dotenv()"
   ]
  },
  {
   "cell_type": "code",
   "execution_count": null,
   "metadata": {},
   "outputs": [],
   "source": [
    "os.environ['OPENAI_API_KEY']=os.getenv(\"OPENAI_API_KEY\")"
   ]
  },
  {
   "cell_type": "code",
   "execution_count": 23,
   "metadata": {},
   "outputs": [],
   "source": [
    "from llama_index.core import VectorStoreIndex,SimpleDirectoryReader\n",
    "documents=SimpleDirectoryReader(\"data\").load_data()"
   ]
  },
  {
   "cell_type": "code",
   "execution_count": 24,
   "metadata": {},
   "outputs": [
    {
     "name": "stderr",
     "output_type": "stream",
     "text": [
      "Parsing nodes: 100%|██████████| 21/21 [00:00<00:00, 1264.41it/s]\n",
      "Generating embeddings: 100%|██████████| 21/21 [00:02<00:00,  9.15it/s]\n"
     ]
    }
   ],
   "source": [
    "index=VectorStoreIndex.from_documents(documents, show_progress=True)"
   ]
  },
  {
   "cell_type": "code",
   "execution_count": 42,
   "metadata": {},
   "outputs": [
    {
     "name": "stdout",
     "output_type": "stream",
     "text": [
      "Reporting companies can report Beneficial Ownership Information (BOI) electronically by accessing the BOI E-Filing portal at http://boiefiling.fincen.gov. The E-Filing portal allows companies to choose between uploading a finalized PDF version of the BOIR and submitting it online, or filling out the web-based version of the BOIR and submitting it online. Both methods require online submission as BOIRs cannot be mailed or faxed to FinCEN.\n"
     ]
    }
   ],
   "source": [
    "query_engine=index.as_query_engine()\n",
    "response = query_engine.query(\"where to report BOI?\")\n",
    "print(response)"
   ]
  },
  {
   "cell_type": "code",
   "execution_count": 29,
   "metadata": {},
   "outputs": [
    {
     "name": "stdout",
     "output_type": "stream",
     "text": [
      "Final Response: Reporting companies can report Beneficial Ownership\n",
      "Information (BOI) electronically by accessing the BOI E-Filing portal\n",
      "at http://boiefiling.fincen.gov. They can choose to submit a finalized\n",
      "PDF version of BOI or fill out the web-based version of BOI on the\n",
      "portal. Both methods require online submission as BOIs cannot be\n",
      "mailed or faxed to FinCEN.\n",
      "______________________________________________________________________\n",
      "Source Node 1/2\n",
      "Node ID: 712143a1-38ed-4ffd-bce8-ae610f6c1f7d\n",
      "Similarity: 0.8393212855648444\n",
      "Text: Beneficial Ownership Information Reporting Filing Instructions\n",
      "January 2024 - Version 1.0 5 II. Where to Report Beneficial Ownership\n",
      "Information  Reporting       companies       may     complete\n",
      "BOIRs   electronically  by      accessing       the     BOI\n",
      "E-Filing        portal  at       http    s://boiefiling.fincen.gov\n",
      "(accessible     beginning       on      January 1,      2024). The\n",
      "E-Filing        portal  permits a       r...\n",
      "______________________________________________________________________\n",
      "Source Node 2/2\n",
      "Node ID: ea03c5fe-7e61-4306-a2fa-2a182fd6df18\n",
      "Similarity: 0.8254652443227403\n",
      "Text: Beneficial Ownership Information Reporting Filing Instructions\n",
      "January 2024 - Version 1.0 6 III. How to Report Beneficial Ownership\n",
      "Information Report  beneficial      ownership       information     to\n",
      "FinCEN  by      filing  a       true,   correct,        and\n",
      "complete        BOIR.            This    section includes\n",
      "specific        recommendations and     instructions    to      assist\n",
      "in      reporting       beneficial       owner...\n",
      "Reporting companies can report Beneficial Ownership Information (BOI) electronically by accessing the BOI E-Filing portal at http://boiefiling.fincen.gov. They can choose to submit a finalized PDF version of BOI or fill out the web-based version of BOI on the portal. Both methods require online submission as BOIs cannot be mailed or faxed to FinCEN.\n"
     ]
    }
   ],
   "source": [
    "from llama_index.core.response.pprint_utils import pprint_response\n",
    "pprint_response(response, show_source=True)\n",
    "print(response)"
   ]
  },
  {
   "cell_type": "code",
   "execution_count": null,
   "metadata": {},
   "outputs": [],
   "source": [
    "from llama_index.core.retrievers import VectorIndexRetriever\n",
    "from llama_index.core.query_engine import RetrieverQueryEngine\n",
    "from llama_index.core.indices.postprocessor import SimilarityPostprocessor\n",
    "\n",
    "retriever=VectorIndexRetriever(index=index,similarity_top_k=4)\n",
    "postprocessor=SimilarityPostprocessor(similarity_cutoff=0.80)\n",
    "\n",
    "query_engine=RetrieverQueryEngine(retriever=retriever,node_postprocessors=[postprocessor])\n",
    "response=query_engine.query(\"How to file BOI?\")"
   ]
  },
  {
   "cell_type": "code",
   "execution_count": 45,
   "metadata": {},
   "outputs": [
    {
     "name": "stdout",
     "output_type": "stream",
     "text": [
      "Final Response: To file a Beneficial Ownership Information Report\n",
      "(BOIR), reporting companies can choose to complete the filing\n",
      "electronically through the BOI E-Filing portal. They have two options\n",
      "for submitting a BOIR: uploading a finalized PDF version of the BOIR\n",
      "and submitting it online, or filling out the web-based version of the\n",
      "BOIR and submitting it online. Both methods require the filing to be\n",
      "done online, as BOIRs cannot be mailed or faxed to FinCEN. After\n",
      "submission, the person filing the BOIR will receive confirmation from\n",
      "FinCEN once the report is accepted. Additionally, FinCEN offers\n",
      "system-to-system BOIR transmission via a secure Application\n",
      "Programming Interface (API) for those interested in automating the\n",
      "filing process.\n",
      "______________________________________________________________________\n",
      "Source Node 1/4\n",
      "Node ID: 81635825-fd50-410e-8d84-edfea190ddbf\n",
      "Similarity: 0.8596716477928947\n",
      "Text: Beneficial Ownership Information Reporting Filing Instructions\n",
      "January 2024 - Version 1.0 5 II. Where to Report Beneficial Ownership\n",
      "Information  Reporting       companies       may     complete\n",
      "BOIRs   electronically  by      accessing       the     BOI\n",
      "E-Filing        portal  at       http    s://boiefiling.fincen.gov\n",
      "(accessible     beginning       on      January 1,      2024). The\n",
      "E-Filing        portal  permits a       r...\n",
      "______________________________________________________________________\n",
      "Source Node 2/4\n",
      "Node ID: cad9bba3-f41d-4772-9ff2-bf8a9c658fb3\n",
      "Similarity: 0.8529953640488055\n",
      "Text: Beneficial Ownership Information Reporting Filing Instructions\n",
      "January 2024 - Version 1.0 2 Table of Contents I.       Who,   What,\n",
      "When    of      Beneficial      Ownership       Information\n",
      "Reporting       Requirements    ........................3 II.\n",
      "Where  to      Report  Beneficial      Ownership       Information\n",
      "......................................................................\n",
      "........\n",
      "______________________________________________________________________\n",
      "Source Node 3/4\n",
      "Node ID: b0d26075-2448-4261-bd96-0e4fd5d4f743\n",
      "Similarity: 0.8487693315369855\n",
      "Text: Beneficial Ownership Information Reporting Filing Instructions\n",
      "January 2024 - Version 1.0 4 WHEN FinCEN  will    begin   accepting\n",
      "BOIRs   electronically  through its     secure  filing  system\n",
      "January  1,      2024.           FinCEN  will    not     accept  BOIRs\n",
      "prior   to      January 1,      2024.            If      a\n",
      "reporting       company already exists  as      of      January 1,\n",
      "2024,   it      must    file    its     initial BOIR    ...\n",
      "______________________________________________________________________\n",
      "Source Node 4/4\n",
      "Node ID: 0390960e-0f65-42bd-8c44-7ef767179571\n",
      "Similarity: 0.8486118223539069\n",
      "Text: Beneficial Ownership Information Reporting Filing Instructions\n",
      "January 2024 - Version 1.0 6 III. How to Report Beneficial Ownership\n",
      "Information Report  beneficial      ownership       information     to\n",
      "FinCEN  by      filing  a       true,   correct,        and\n",
      "complete        BOIR.            This    section includes\n",
      "specific        recommendations and     instructions    to      assist\n",
      "in      reporting       beneficial       owner...\n",
      "To file a Beneficial Ownership Information Report (BOIR), reporting companies can choose to complete the filing electronically through the BOI E-Filing portal. They have two options for submitting a BOIR: uploading a finalized PDF version of the BOIR and submitting it online, or filling out the web-based version of the BOIR and submitting it online. Both methods require the filing to be done online, as BOIRs cannot be mailed or faxed to FinCEN. After submission, the person filing the BOIR will receive confirmation from FinCEN once the report is accepted. Additionally, FinCEN offers system-to-system BOIR transmission via a secure Application Programming Interface (API) for those interested in automating the filing process.\n"
     ]
    }
   ],
   "source": [
    "from llama_index.core.response.pprint_utils import pprint_response\n",
    "pprint_response(response,show_source=True)\n",
    "print(response)"
   ]
  },
  {
   "cell_type": "code",
   "execution_count": 39,
   "metadata": {},
   "outputs": [
    {
     "name": "stdout",
     "output_type": "stream",
     "text": [
      "The prohibited words and phrases while reporting BOI are:\n",
      "- AKA\n",
      "- DBA\n",
      "- NMN\n",
      "- NONE\n",
      "- NOT APPLICABLE\n",
      "- OTHER\n",
      "- SAME\n",
      "- SAME AS ABOVE\n",
      "- SEE ABOVE\n",
      "- T/A\n",
      "- UNKNOWN\n",
      "- VARIOUS\n",
      "- XX\n"
     ]
    }
   ],
   "source": [
    "import os.path\n",
    "from llama_index.core import (\n",
    "    VectorStoreIndex,\n",
    "    SimpleDirectoryReader,\n",
    "    StorageContext,\n",
    "    load_index_from_storage,\n",
    ")\n",
    "\n",
    "# check if storage already exists\n",
    "PERSIST_DIR = \"./storage\"\n",
    "if not os.path.exists(PERSIST_DIR):\n",
    "    # load the documents and create the index\n",
    "    documents = SimpleDirectoryReader(\"data\").load_data()\n",
    "    index = VectorStoreIndex.from_documents(documents)\n",
    "    # store it for later\n",
    "    index.storage_context.persist(persist_dir=PERSIST_DIR)\n",
    "else:\n",
    "    # load the existing index\n",
    "    storage_context = StorageContext.from_defaults(persist_dir=PERSIST_DIR)\n",
    "    index = load_index_from_storage(storage_context)\n",
    "\n",
    "# either way we can now query the index\n",
    "query_engine = index.as_query_engine()\n",
    "response = query_engine.query(\"What are prohibitad words and phrases are while reporting BOI?\")\n",
    "print(response)"
   ]
  }
 ],
 "metadata": {
  "kernelspec": {
   "display_name": "myenv",
   "language": "python",
   "name": "python3"
  },
  "language_info": {
   "codemirror_mode": {
    "name": "ipython",
    "version": 3
   },
   "file_extension": ".py",
   "mimetype": "text/x-python",
   "name": "python",
   "nbconvert_exporter": "python",
   "pygments_lexer": "ipython3",
   "version": "3.11.9"
  }
 },
 "nbformat": 4,
 "nbformat_minor": 2
}
